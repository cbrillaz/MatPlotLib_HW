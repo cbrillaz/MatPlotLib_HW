{
 "cells": [
  {
   "cell_type": "markdown",
   "metadata": {},
   "source": [
    "Observable Trends in the Data: \n",
    "1) While 81% of all ride share drivers are in urban areas, urban drivers only receive 62% of the total fares.  \n",
    "\n",
    "2) Since suburban and rural areas are less dense, drive times are likely higher, resulting in higher driver costs/revenue.  This is also reflected in the scatter plot as average fare increases as the geography becomes Suburban/Rural.  \n",
    "\n",
    "3) Very little ride share activity in rural areas. "
   ]
  },
  {
   "cell_type": "code",
   "execution_count": null,
   "metadata": {},
   "outputs": [],
   "source": [
    "%matplotlib inline\n",
    "# Dependencies and Setup\n",
    "import matplotlib.pyplot as plt\n",
    "import pandas as pd\n",
    "import numpy as np\n",
    "\n",
    "# File to Load (Remember to change these)\n",
    "city_data_to_load = \"Resources/city_data.csv\"\n",
    "ride_data_to_load = \"Resources/ride_data.csv\"\n",
    "\n",
    "# Read the City and Ride Data\n",
    "city_data = pd.read_csv(city_data_to_load)\n",
    "ride_data = pd.read_csv(ride_data_to_load)\n",
    "\n",
    "# Combine the data into a single dataset\n",
    "ride_data_complete = pd.merge(ride_data, city_data, on=[\"city\", \"city\"])\n"
   ]
  },
  {
   "cell_type": "code",
   "execution_count": null,
   "metadata": {},
   "outputs": [],
   "source": [
    "ride_data.head()"
   ]
  },
  {
   "cell_type": "code",
   "execution_count": null,
   "metadata": {},
   "outputs": [],
   "source": [
    "city_data.head()"
   ]
  },
  {
   "cell_type": "code",
   "execution_count": null,
   "metadata": {
    "scrolled": true
   },
   "outputs": [],
   "source": [
    "ride_data_complete.head()"
   ]
  },
  {
   "cell_type": "code",
   "execution_count": null,
   "metadata": {},
   "outputs": [],
   "source": [
    "ride_group = ride_data_complete.groupby(['city', 'type'])\n",
    "\n",
    "rides = ride_group['city'].count()\n",
    "rides_avg = ride_group['fare'].mean()\n",
    "driver_count = ride_group['driver_count'].max()\n",
    "\n",
    "driver_count"
   ]
  },
  {
   "cell_type": "markdown",
   "metadata": {},
   "source": [
    "## Bubble Plot of Ride Sharing Data"
   ]
  },
  {
   "cell_type": "code",
   "execution_count": null,
   "metadata": {},
   "outputs": [],
   "source": [
    "ride_df = pd.DataFrame({\"Total Rides\": (rides),\n",
    "                       \"Average Fare per City\": (rides_avg),\n",
    "                       \"Total Drivers\": (driver_count)})\n",
    "\n",
    "\n",
    "ride_df.head()"
   ]
  },
  {
   "cell_type": "code",
   "execution_count": null,
   "metadata": {},
   "outputs": [],
   "source": [
    "ride_chart = ride_df.plot(kind='scatter', x='Total Rides', y='Average Fare per City', s=driver_count*10,\n",
    "                          marker=\"o\", edgecolors='black', color='#ff9999', \n",
    "                          grid=True, figsize=(7,5))\n",
    "ride_chart.text(15+10.2, 20.5, \"Note: Circle Size correlates to driver count per city\", \n",
    "                horizontalalignment='left', size='medium', color='black')\n",
    "\n",
    "ride_chart.set_xlabel(\"Total Number of Rides (per City)\")\n",
    "ride_chart.set_ylabel(\"Average Fare ($)\")\n",
    "ride_chart.set_title(\"Pyber Ride Sharing Data 2016\")"
   ]
  },
  {
   "cell_type": "code",
   "execution_count": null,
   "metadata": {},
   "outputs": [],
   "source": [
    "plt.tight_layout()\n",
    "plt.savefig(\"Images/bubble.jpg\")\n",
    "plt.show()"
   ]
  },
  {
   "cell_type": "code",
   "execution_count": null,
   "metadata": {},
   "outputs": [],
   "source": [
    "city_type = ride_df.groupby(\"type\")\n",
    "city_type_data = city_type['Total Rides'].sum()\n",
    "all_rides = sum(city_type_data)\n",
    "percent_of_all_rides = city_type_data/all_rides"
   ]
  },
  {
   "cell_type": "code",
   "execution_count": null,
   "metadata": {},
   "outputs": [],
   "source": [
    "type_df = pd.DataFrame({\"% of All Rides\": (percent_of_all_rides)})\n",
    "type_list = type_df.keys()\n",
    "\n",
    "type_df.head()"
   ]
  },
  {
   "cell_type": "code",
   "execution_count": null,
   "metadata": {},
   "outputs": [],
   "source": [
    "explode = (0, 0, 0.1)\n",
    "type_pie = type_df.plot(kind='pie', y=type_list, title=\"% of Total Rides by City Type\", \n",
    "                        startangle=150, shadow=True, explode=explode, autopct='%.1f%%', radius=3)\n",
    "plt.axis(\"equal\")\n",
    "plt.tight_layout()\n",
    "plt.savefig(\"Images/fares_by_city_type.png\")\n",
    "plt.show"
   ]
  },
  {
   "cell_type": "code",
   "execution_count": null,
   "metadata": {},
   "outputs": [],
   "source": [
    "type_fare = ride_data_complete.groupby(\"type\")\n",
    "\n",
    "type_fare_sum = type_fare[\"fare\"].sum()\n",
    "type_fare_all = sum(type_fare_sum)\n",
    "\n",
    "type_fare_percent = type_fare_sum/type_fare_all\n",
    "type_fare_percent\n",
    "\n",
    "type_fare_sum_df = pd.DataFrame({\"% of Total Fare\": (type_fare_percent)})\n",
    "type_fare_list = type_fare_sum_df.keys()\n",
    "\n",
    "type_fare_sum_df.head()"
   ]
  },
  {
   "cell_type": "code",
   "execution_count": null,
   "metadata": {},
   "outputs": [],
   "source": [
    "fare_pie = type_fare_sum_df.plot(kind='pie', y=type_fare_list, title=\"% of Total Fares by City Type\",\n",
    "                                startangle=150, shadow=True, explode=explode, autopct='%.1f%%', radius=3)\n",
    "\n",
    "plt.axis(\"equal\")\n",
    "plt.show()\n",
    "plt.tight_layout()\n",
    "plt.savefig(\"Images/total_rides_by_city_type.png\")"
   ]
  },
  {
   "cell_type": "code",
   "execution_count": null,
   "metadata": {},
   "outputs": [],
   "source": [
    "drivers = city_data.groupby(\"type\")\n",
    "driver_c = drivers[\"driver_count\"].sum()\n",
    "\n",
    "driver_all = sum(driver_c)\n",
    "driver_percent = driver_c / driver_all\n",
    "\n",
    "driver_df = pd.DataFrame({\"% of Total Drivers\": (driver_percent)})\n",
    "driver_list = driver_df.keys()\n",
    "\n",
    "driver_df.head()"
   ]
  },
  {
   "cell_type": "code",
   "execution_count": null,
   "metadata": {},
   "outputs": [],
   "source": [
    "driver_pie = driver_df.plot(kind='pie', y=driver_list, title=\"% of Total Drivers by City Type\",\n",
    "                           startangle=150, shadow=True, explode=explode, autopct='%.1f%%', radius=3)\n",
    "\n",
    "plt.axis(\"equal\")\n",
    "plt.show()\n",
    "plt.tight_layout()\n",
    "plt.savefig(\"Images/total_drivers_by_city_type.png\")"
   ]
  }
 ],
 "metadata": {
  "anaconda-cloud": {},
  "kernelspec": {
   "display_name": "Python 3",
   "language": "python",
   "name": "python3"
  },
  "language_info": {
   "codemirror_mode": {
    "name": "ipython",
    "version": 3
   },
   "file_extension": ".py",
   "mimetype": "text/x-python",
   "name": "python",
   "nbconvert_exporter": "python",
   "pygments_lexer": "ipython3",
   "version": "3.6.7"
  }
 },
 "nbformat": 4,
 "nbformat_minor": 2
}
